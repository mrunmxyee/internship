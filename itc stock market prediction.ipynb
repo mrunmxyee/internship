{
 "cells": [
  {
   "cell_type": "markdown",
   "id": "92b1af24",
   "metadata": {},
   "source": [
    "# Stock Market predicton of ITC stocks from 2002 to 2022"
   ]
  },
  {
   "cell_type": "markdown",
   "id": "4e4946c2",
   "metadata": {},
   "source": [
    "### Import necessary libraries"
   ]
  },
  {
   "cell_type": "code",
   "execution_count": 1,
   "id": "4a1afefe",
   "metadata": {},
   "outputs": [
    {
     "name": "stderr",
     "output_type": "stream",
     "text": [
      "D:\\anac\\lib\\site-packages\\scipy\\__init__.py:146: UserWarning: A NumPy version >=1.16.5 and <1.23.0 is required for this version of SciPy (detected version 1.23.5\n",
      "  warnings.warn(f\"A NumPy version >={np_minversion} and <{np_maxversion}\"\n"
     ]
    }
   ],
   "source": [
    "import pandas as pd\n",
    "import numpy as np\n",
    "%matplotlib inline\n",
    "import matplotlib.pyplot as plt\n",
    "from sklearn.preprocessing import MinMaxScaler\n",
    "from keras.layers import LSTM, Dense, Dropout\n",
    "from sklearn.model_selection import TimeSeriesSplit\n",
    "from sklearn.metrics import mean_squared_error, r2_score\n",
    "import matplotlib. dates as mandates\n",
    "from sklearn. preprocessing import MinMaxScaler\n",
    "from sklearn import linear_model"
   ]
  },
  {
   "cell_type": "code",
   "execution_count": 2,
   "id": "f8440b72",
   "metadata": {},
   "outputs": [],
   "source": [
    "from tensorflow.keras import Sequential"
   ]
  },
  {
   "cell_type": "code",
   "execution_count": 3,
   "id": "066e27cb",
   "metadata": {},
   "outputs": [],
   "source": [
    "from tensorflow.keras.layers import Dense"
   ]
  },
  {
   "cell_type": "code",
   "execution_count": 4,
   "id": "d7b15510",
   "metadata": {},
   "outputs": [],
   "source": [
    "import keras.backend as k"
   ]
  },
  {
   "cell_type": "code",
   "execution_count": 5,
   "id": "0af54c57",
   "metadata": {},
   "outputs": [],
   "source": [
    "from keras.callbacks import EarlyStopping"
   ]
  },
  {
   "cell_type": "code",
   "execution_count": 6,
   "id": "dee821c0",
   "metadata": {},
   "outputs": [],
   "source": [
    "from tensorflow.keras.optimizers import Adam"
   ]
  },
  {
   "cell_type": "code",
   "execution_count": 7,
   "id": "daa4a187",
   "metadata": {},
   "outputs": [],
   "source": [
    "from keras.models import load_model"
   ]
  },
  {
   "cell_type": "code",
   "execution_count": 8,
   "id": "1541d96c",
   "metadata": {},
   "outputs": [],
   "source": [
    "from keras.layers import LSTM"
   ]
  },
  {
   "cell_type": "code",
   "execution_count": 9,
   "id": "c690499e",
   "metadata": {},
   "outputs": [],
   "source": [
    "from keras.utils.vis_utils import plot_model"
   ]
  },
  {
   "cell_type": "markdown",
   "id": "d7673e31",
   "metadata": {},
   "source": [
    "### Visualising the data set"
   ]
  },
  {
   "cell_type": "code",
   "execution_count": 10,
   "id": "820c14dc",
   "metadata": {},
   "outputs": [
    {
     "data": {
      "text/html": [
       "<div>\n",
       "<style scoped>\n",
       "    .dataframe tbody tr th:only-of-type {\n",
       "        vertical-align: middle;\n",
       "    }\n",
       "\n",
       "    .dataframe tbody tr th {\n",
       "        vertical-align: top;\n",
       "    }\n",
       "\n",
       "    .dataframe thead th {\n",
       "        text-align: right;\n",
       "    }\n",
       "</style>\n",
       "<table border=\"1\" class=\"dataframe\">\n",
       "  <thead>\n",
       "    <tr style=\"text-align: right;\">\n",
       "      <th></th>\n",
       "      <th>Open</th>\n",
       "      <th>High</th>\n",
       "      <th>Low</th>\n",
       "      <th>Close</th>\n",
       "      <th>Adj Close</th>\n",
       "      <th>Volume</th>\n",
       "    </tr>\n",
       "    <tr>\n",
       "      <th>Date</th>\n",
       "      <th></th>\n",
       "      <th></th>\n",
       "      <th></th>\n",
       "      <th></th>\n",
       "      <th></th>\n",
       "      <th></th>\n",
       "    </tr>\n",
       "  </thead>\n",
       "  <tbody>\n",
       "    <tr>\n",
       "      <th>2002-11-29</th>\n",
       "      <td>14.355555</td>\n",
       "      <td>14.400000</td>\n",
       "      <td>14.045555</td>\n",
       "      <td>14.110000</td>\n",
       "      <td>9.110359</td>\n",
       "      <td>11307960.0</td>\n",
       "    </tr>\n",
       "    <tr>\n",
       "      <th>2002-12-02</th>\n",
       "      <td>14.225555</td>\n",
       "      <td>14.522222</td>\n",
       "      <td>14.155555</td>\n",
       "      <td>14.447777</td>\n",
       "      <td>9.328453</td>\n",
       "      <td>16884315.0</td>\n",
       "    </tr>\n",
       "    <tr>\n",
       "      <th>2002-12-03</th>\n",
       "      <td>14.566666</td>\n",
       "      <td>14.642222</td>\n",
       "      <td>14.377777</td>\n",
       "      <td>14.444444</td>\n",
       "      <td>9.326302</td>\n",
       "      <td>15716160.0</td>\n",
       "    </tr>\n",
       "    <tr>\n",
       "      <th>2002-12-04</th>\n",
       "      <td>14.455555</td>\n",
       "      <td>14.653333</td>\n",
       "      <td>14.266666</td>\n",
       "      <td>14.392222</td>\n",
       "      <td>9.292582</td>\n",
       "      <td>13467375.0</td>\n",
       "    </tr>\n",
       "    <tr>\n",
       "      <th>2002-12-05</th>\n",
       "      <td>14.400000</td>\n",
       "      <td>14.532222</td>\n",
       "      <td>14.355555</td>\n",
       "      <td>14.435555</td>\n",
       "      <td>9.320561</td>\n",
       "      <td>3596130.0</td>\n",
       "    </tr>\n",
       "    <tr>\n",
       "      <th>...</th>\n",
       "      <td>...</td>\n",
       "      <td>...</td>\n",
       "      <td>...</td>\n",
       "      <td>...</td>\n",
       "      <td>...</td>\n",
       "      <td>...</td>\n",
       "    </tr>\n",
       "    <tr>\n",
       "      <th>2022-11-22</th>\n",
       "      <td>337.000000</td>\n",
       "      <td>341.000000</td>\n",
       "      <td>335.700012</td>\n",
       "      <td>340.250000</td>\n",
       "      <td>340.250000</td>\n",
       "      <td>6495845.0</td>\n",
       "    </tr>\n",
       "    <tr>\n",
       "      <th>2022-11-23</th>\n",
       "      <td>342.000000</td>\n",
       "      <td>342.000000</td>\n",
       "      <td>337.500000</td>\n",
       "      <td>339.799988</td>\n",
       "      <td>339.799988</td>\n",
       "      <td>7768291.0</td>\n",
       "    </tr>\n",
       "    <tr>\n",
       "      <th>2022-11-24</th>\n",
       "      <td>339.799988</td>\n",
       "      <td>342.500000</td>\n",
       "      <td>337.549988</td>\n",
       "      <td>340.750000</td>\n",
       "      <td>340.750000</td>\n",
       "      <td>8140857.0</td>\n",
       "    </tr>\n",
       "    <tr>\n",
       "      <th>2022-11-25</th>\n",
       "      <td>341.000000</td>\n",
       "      <td>341.899994</td>\n",
       "      <td>337.799988</td>\n",
       "      <td>340.299988</td>\n",
       "      <td>340.299988</td>\n",
       "      <td>6933254.0</td>\n",
       "    </tr>\n",
       "    <tr>\n",
       "      <th>2022-11-28</th>\n",
       "      <td>340.000000</td>\n",
       "      <td>341.750000</td>\n",
       "      <td>338.750000</td>\n",
       "      <td>340.049988</td>\n",
       "      <td>340.049988</td>\n",
       "      <td>9902739.0</td>\n",
       "    </tr>\n",
       "  </tbody>\n",
       "</table>\n",
       "<p>4972 rows × 6 columns</p>\n",
       "</div>"
      ],
      "text/plain": [
       "                  Open        High         Low       Close   Adj Close  \\\n",
       "Date                                                                     \n",
       "2002-11-29   14.355555   14.400000   14.045555   14.110000    9.110359   \n",
       "2002-12-02   14.225555   14.522222   14.155555   14.447777    9.328453   \n",
       "2002-12-03   14.566666   14.642222   14.377777   14.444444    9.326302   \n",
       "2002-12-04   14.455555   14.653333   14.266666   14.392222    9.292582   \n",
       "2002-12-05   14.400000   14.532222   14.355555   14.435555    9.320561   \n",
       "...                ...         ...         ...         ...         ...   \n",
       "2022-11-22  337.000000  341.000000  335.700012  340.250000  340.250000   \n",
       "2022-11-23  342.000000  342.000000  337.500000  339.799988  339.799988   \n",
       "2022-11-24  339.799988  342.500000  337.549988  340.750000  340.750000   \n",
       "2022-11-25  341.000000  341.899994  337.799988  340.299988  340.299988   \n",
       "2022-11-28  340.000000  341.750000  338.750000  340.049988  340.049988   \n",
       "\n",
       "                Volume  \n",
       "Date                    \n",
       "2002-11-29  11307960.0  \n",
       "2002-12-02  16884315.0  \n",
       "2002-12-03  15716160.0  \n",
       "2002-12-04  13467375.0  \n",
       "2002-12-05   3596130.0  \n",
       "...                ...  \n",
       "2022-11-22   6495845.0  \n",
       "2022-11-23   7768291.0  \n",
       "2022-11-24   8140857.0  \n",
       "2022-11-25   6933254.0  \n",
       "2022-11-28   9902739.0  \n",
       "\n",
       "[4972 rows x 6 columns]"
      ]
     },
     "execution_count": 10,
     "metadata": {},
     "output_type": "execute_result"
    }
   ],
   "source": [
    "df=pd.read_csv('ITC.NS.csv',index_col='Date',parse_dates=True,infer_datetime_format=True)\n",
    "df"
   ]
  },
  {
   "cell_type": "code",
   "execution_count": 11,
   "id": "878fb59b",
   "metadata": {},
   "outputs": [
    {
     "data": {
      "text/plain": [
       "(4972, 6)"
      ]
     },
     "execution_count": 11,
     "metadata": {},
     "output_type": "execute_result"
    }
   ],
   "source": [
    "df.shape"
   ]
  },
  {
   "cell_type": "code",
   "execution_count": 12,
   "id": "2eb69265",
   "metadata": {},
   "outputs": [],
   "source": [
    "df=df.dropna()"
   ]
  },
  {
   "cell_type": "code",
   "execution_count": 13,
   "id": "c4b38060",
   "metadata": {},
   "outputs": [
    {
     "data": {
      "text/plain": [
       "Open         0\n",
       "High         0\n",
       "Low          0\n",
       "Close        0\n",
       "Adj Close    0\n",
       "Volume       0\n",
       "dtype: int64"
      ]
     },
     "execution_count": 13,
     "metadata": {},
     "output_type": "execute_result"
    }
   ],
   "source": [
    "df.isnull().sum()"
   ]
  },
  {
   "cell_type": "markdown",
   "id": "47478d25",
   "metadata": {},
   "source": [
    "### the 'close' value will be the final output that will be forecasted using ML model"
   ]
  },
  {
   "cell_type": "code",
   "execution_count": 14,
   "id": "afc3536f",
   "metadata": {},
   "outputs": [
    {
     "data": {
      "text/plain": [
       "<AxesSubplot:xlabel='Date'>"
      ]
     },
     "execution_count": 14,
     "metadata": {},
     "output_type": "execute_result"
    },
    {
     "data": {
      "image/png": "[encoded data removed]",
      "text/plain": [
       "<Figure size 432x288 with 1 Axes>"
      ]
     },
     "metadata": {
      "needs_background": "light"
     },
     "output_type": "display_data"
    }
   ],
   "source": [
    "df['Close'].plot()"
   ]
  },
  {
   "cell_type": "code",
   "execution_count": 15,
   "id": "184de4fe",
   "metadata": {},
   "outputs": [],
   "source": [
    "output_var = pd.DataFrame(df['Close'])\n",
    "features = ['Open','High','Low','Volume']"
   ]
  },
  {
   "cell_type": "code",
   "execution_count": 16,
   "id": "bbb8492b",
   "metadata": {},
   "outputs": [
    {
     "data": {
      "text/html": [
       "<div>\n",
       "<style scoped>\n",
       "    .dataframe tbody tr th:only-of-type {\n",
       "        vertical-align: middle;\n",
       "    }\n",
       "\n",
       "    .dataframe tbody tr th {\n",
       "        vertical-align: top;\n",
       "    }\n",
       "\n",
       "    .dataframe thead th {\n",
       "        text-align: right;\n",
       "    }\n",
       "</style>\n",
       "<table border=\"1\" class=\"dataframe\">\n",
       "  <thead>\n",
       "    <tr style=\"text-align: right;\">\n",
       "      <th></th>\n",
       "      <th>Open</th>\n",
       "      <th>High</th>\n",
       "      <th>Low</th>\n",
       "      <th>Volume</th>\n",
       "    </tr>\n",
       "    <tr>\n",
       "      <th>Date</th>\n",
       "      <th></th>\n",
       "      <th></th>\n",
       "      <th></th>\n",
       "      <th></th>\n",
       "    </tr>\n",
       "  </thead>\n",
       "  <tbody>\n",
       "    <tr>\n",
       "      <th>2002-11-29</th>\n",
       "      <td>0.004168</td>\n",
       "      <td>0.002051</td>\n",
       "      <td>0.004679</td>\n",
       "      <td>0.075649</td>\n",
       "    </tr>\n",
       "    <tr>\n",
       "      <th>2002-12-02</th>\n",
       "      <td>0.003793</td>\n",
       "      <td>0.002403</td>\n",
       "      <td>0.005000</td>\n",
       "      <td>0.112954</td>\n",
       "    </tr>\n",
       "    <tr>\n",
       "      <th>2002-12-03</th>\n",
       "      <td>0.004776</td>\n",
       "      <td>0.002748</td>\n",
       "      <td>0.005650</td>\n",
       "      <td>0.105139</td>\n",
       "    </tr>\n",
       "    <tr>\n",
       "      <th>2002-12-04</th>\n",
       "      <td>0.004456</td>\n",
       "      <td>0.002780</td>\n",
       "      <td>0.005325</td>\n",
       "      <td>0.090095</td>\n",
       "    </tr>\n",
       "    <tr>\n",
       "      <th>2002-12-05</th>\n",
       "      <td>0.004296</td>\n",
       "      <td>0.002431</td>\n",
       "      <td>0.005585</td>\n",
       "      <td>0.024058</td>\n",
       "    </tr>\n",
       "    <tr>\n",
       "      <th>...</th>\n",
       "      <td>...</td>\n",
       "      <td>...</td>\n",
       "      <td>...</td>\n",
       "      <td>...</td>\n",
       "    </tr>\n",
       "    <tr>\n",
       "      <th>2022-11-22</th>\n",
       "      <td>0.933735</td>\n",
       "      <td>0.941196</td>\n",
       "      <td>0.944624</td>\n",
       "      <td>0.043456</td>\n",
       "    </tr>\n",
       "    <tr>\n",
       "      <th>2022-11-23</th>\n",
       "      <td>0.948140</td>\n",
       "      <td>0.944071</td>\n",
       "      <td>0.949884</td>\n",
       "      <td>0.051969</td>\n",
       "    </tr>\n",
       "    <tr>\n",
       "      <th>2022-11-24</th>\n",
       "      <td>0.941802</td>\n",
       "      <td>0.945509</td>\n",
       "      <td>0.950030</td>\n",
       "      <td>0.054461</td>\n",
       "    </tr>\n",
       "    <tr>\n",
       "      <th>2022-11-25</th>\n",
       "      <td>0.945259</td>\n",
       "      <td>0.943784</td>\n",
       "      <td>0.950761</td>\n",
       "      <td>0.046383</td>\n",
       "    </tr>\n",
       "    <tr>\n",
       "      <th>2022-11-28</th>\n",
       "      <td>0.942378</td>\n",
       "      <td>0.943352</td>\n",
       "      <td>0.953537</td>\n",
       "      <td>0.066248</td>\n",
       "    </tr>\n",
       "  </tbody>\n",
       "</table>\n",
       "<p>4961 rows × 4 columns</p>\n",
       "</div>"
      ],
      "text/plain": [
       "                Open      High       Low    Volume\n",
       "Date                                              \n",
       "2002-11-29  0.004168  0.002051  0.004679  0.075649\n",
       "2002-12-02  0.003793  0.002403  0.005000  0.112954\n",
       "2002-12-03  0.004776  0.002748  0.005650  0.105139\n",
       "2002-12-04  0.004456  0.002780  0.005325  0.090095\n",
       "2002-12-05  0.004296  0.002431  0.005585  0.024058\n",
       "...              ...       ...       ...       ...\n",
       "2022-11-22  0.933735  0.941196  0.944624  0.043456\n",
       "2022-11-23  0.948140  0.944071  0.949884  0.051969\n",
       "2022-11-24  0.941802  0.945509  0.950030  0.054461\n",
       "2022-11-25  0.945259  0.943784  0.950761  0.046383\n",
       "2022-11-28  0.942378  0.943352  0.953537  0.066248\n",
       "\n",
       "[4961 rows x 4 columns]"
      ]
     },
     "execution_count": 16,
     "metadata": {},
     "output_type": "execute_result"
    }
   ],
   "source": [
    "scaler = MinMaxScaler()\n",
    "feature_transform = scaler.fit_transform(df[features])\n",
    "feature_transform =pd.DataFrame(columns=features,data= feature_transform,index=df.index)\n",
    "feature_transform"
   ]
  },
  {
   "cell_type": "code",
   "execution_count": 17,
   "id": "98b9398d",
   "metadata": {},
   "outputs": [],
   "source": [
    "timesplit= TimeSeriesSplit(n_splits=10)\n",
    "for train_index, test_index in timesplit.split(feature_transform):\n",
    "        X_train, X_test = feature_transform[:len(train_index)], feature_transform[len(train_index): (len(train_index)+len(test_index))]\n",
    "        y_train, y_test = output_var[:len(train_index)].values.ravel(), output_var[len(train_index): (len(train_index)+len(test_index))].values.ravel()"
   ]
  },
  {
   "cell_type": "code",
   "execution_count": 18,
   "id": "4b0dde0b",
   "metadata": {},
   "outputs": [],
   "source": [
    "trainX =np.array(X_train)\n",
    "testX =np.array(X_test)\n",
    "X_train = trainX.reshape(X_train.shape[0], 1, X_train.shape[1])\n",
    "X_test = testX.reshape(X_test.shape[0], 1, X_test.shape[1])"
   ]
  },
  {
   "cell_type": "code",
   "execution_count": 22,
   "id": "e3f98a10",
   "metadata": {},
   "outputs": [
    {
     "name": "stdout",
     "output_type": "stream",
     "text": [
      "Requirement already satisfied: pydot in d:\\anac\\lib\\site-packages (1.4.2)\n",
      "Requirement already satisfied: pyparsing>=2.1.4 in d:\\anac\\lib\\site-packages (from pydot) (3.0.4)\n",
      "Note: you may need to restart the kernel to use updated packages.\n"
     ]
    }
   ],
   "source": [
    "pip install pydot"
   ]
  },
  {
   "cell_type": "code",
   "execution_count": 23,
   "id": "f332b00b",
   "metadata": {},
   "outputs": [
    {
     "name": "stdout",
     "output_type": "stream",
     "text": [
      "Requirement already satisfied: graphviz in d:\\anac\\lib\\site-packages (0.20.1)\n",
      "Note: you may need to restart the kernel to use updated packages.\n"
     ]
    }
   ],
   "source": [
    "pip install graphviz"
   ]
  },
  {
   "cell_type": "code",
   "execution_count": 25,
   "id": "5f976d98",
   "metadata": {},
   "outputs": [],
   "source": [
    "lstm = Sequential()\n",
    "lstm.add(LSTM(32, input_shape=(1, trainX.shape[1]), activation='relu', return_sequences=False))\n",
    "lstm.add(Dense(1))\n",
    "lstm.compile(loss='mean_squared_error', optimizer='adam')"
   ]
  },
  {
   "cell_type": "code",
   "execution_count": 26,
   "id": "a49b1410",
   "metadata": {
    "scrolled": true
   },
   "outputs": [
    {
     "name": "stdout",
     "output_type": "stream",
     "text": [
      "Epoch 1/100\n",
      "564/564 [==============================] - 3s 3ms/step - loss: 22061.5273\n",
      "Epoch 2/100\n",
      "564/564 [==============================] - 2s 3ms/step - loss: 12092.4307\n",
      "Epoch 3/100\n",
      "564/564 [==============================] - 2s 3ms/step - loss: 4825.9121\n",
      "Epoch 4/100\n",
      "564/564 [==============================] - 2s 3ms/step - loss: 1583.3964\n",
      "Epoch 5/100\n",
      "564/564 [==============================] - 2s 3ms/step - loss: 786.6158\n",
      "Epoch 6/100\n",
      "564/564 [==============================] - 2s 3ms/step - loss: 511.3800\n",
      "Epoch 7/100\n",
      "564/564 [==============================] - 2s 3ms/step - loss: 264.9882\n",
      "Epoch 8/100\n",
      "564/564 [==============================] - 2s 3ms/step - loss: 102.1611\n",
      "Epoch 9/100\n",
      "564/564 [==============================] - 2s 3ms/step - loss: 35.4457\n",
      "Epoch 10/100\n",
      "564/564 [==============================] - 2s 3ms/step - loss: 16.6420\n",
      "Epoch 11/100\n",
      "564/564 [==============================] - 2s 3ms/step - loss: 11.6509\n",
      "Epoch 12/100\n",
      "564/564 [==============================] - 2s 3ms/step - loss: 9.7656\n",
      "Epoch 13/100\n",
      "564/564 [==============================] - 2s 3ms/step - loss: 8.7091\n",
      "Epoch 14/100\n",
      "564/564 [==============================] - 2s 3ms/step - loss: 8.0076\n",
      "Epoch 15/100\n",
      "564/564 [==============================] - 3s 5ms/step - loss: 7.5025\n",
      "Epoch 16/100\n",
      "564/564 [==============================] - 3s 5ms/step - loss: 7.1074\n",
      "Epoch 17/100\n",
      "564/564 [==============================] - 3s 5ms/step - loss: 6.7685\n",
      "Epoch 18/100\n",
      "564/564 [==============================] - 3s 5ms/step - loss: 6.4559\n",
      "Epoch 19/100\n",
      "564/564 [==============================] - 3s 5ms/step - loss: 6.1648\n",
      "Epoch 20/100\n",
      "564/564 [==============================] - 3s 5ms/step - loss: 5.8990\n",
      "Epoch 21/100\n",
      "564/564 [==============================] - 3s 5ms/step - loss: 5.6645\n",
      "Epoch 22/100\n",
      "564/564 [==============================] - 3s 5ms/step - loss: 5.4641\n",
      "Epoch 23/100\n",
      "564/564 [==============================] - 3s 5ms/step - loss: 5.2959\n",
      "Epoch 24/100\n",
      "564/564 [==============================] - 3s 5ms/step - loss: 5.1552\n",
      "Epoch 25/100\n",
      "564/564 [==============================] - 3s 5ms/step - loss: 5.0372\n",
      "Epoch 26/100\n",
      "564/564 [==============================] - 3s 5ms/step - loss: 4.9375\n",
      "Epoch 27/100\n",
      "564/564 [==============================] - 3s 5ms/step - loss: 4.8522\n",
      "Epoch 28/100\n",
      "564/564 [==============================] - 3s 5ms/step - loss: 4.7782\n",
      "Epoch 29/100\n",
      "564/564 [==============================] - 3s 5ms/step - loss: 4.7132\n",
      "Epoch 30/100\n",
      "564/564 [==============================] - 3s 5ms/step - loss: 4.6553\n",
      "Epoch 31/100\n",
      "564/564 [==============================] - 3s 5ms/step - loss: 4.6033\n",
      "Epoch 32/100\n",
      "564/564 [==============================] - 3s 5ms/step - loss: 4.5557\n",
      "Epoch 33/100\n",
      "564/564 [==============================] - 3s 5ms/step - loss: 4.5121\n",
      "Epoch 34/100\n",
      "564/564 [==============================] - 3s 5ms/step - loss: 4.4716\n",
      "Epoch 35/100\n",
      "564/564 [==============================] - 3s 5ms/step - loss: 4.4339\n",
      "Epoch 36/100\n",
      "564/564 [==============================] - 3s 5ms/step - loss: 4.3985\n",
      "Epoch 37/100\n",
      "564/564 [==============================] - 3s 5ms/step - loss: 4.3650\n",
      "Epoch 38/100\n",
      "564/564 [==============================] - 3s 5ms/step - loss: 4.3332\n",
      "Epoch 39/100\n",
      "564/564 [==============================] - 3s 5ms/step - loss: 4.3030\n",
      "Epoch 40/100\n",
      "564/564 [==============================] - 3s 5ms/step - loss: 4.2740\n",
      "Epoch 41/100\n",
      "564/564 [==============================] - 3s 5ms/step - loss: 4.2463\n",
      "Epoch 42/100\n",
      "564/564 [==============================] - 3s 5ms/step - loss: 4.2196\n",
      "Epoch 43/100\n",
      "564/564 [==============================] - 3s 5ms/step - loss: 4.1938\n",
      "Epoch 44/100\n",
      "564/564 [==============================] - 3s 6ms/step - loss: 4.1689\n",
      "Epoch 45/100\n",
      "564/564 [==============================] - 3s 5ms/step - loss: 4.1449\n",
      "Epoch 46/100\n",
      "564/564 [==============================] - 3s 5ms/step - loss: 4.1215\n",
      "Epoch 47/100\n",
      "564/564 [==============================] - 3s 6ms/step - loss: 4.0986\n",
      "Epoch 48/100\n",
      "564/564 [==============================] - 3s 5ms/step - loss: 4.0764\n",
      "Epoch 49/100\n",
      "564/564 [==============================] - 3s 5ms/step - loss: 4.0546\n",
      "Epoch 50/100\n",
      "564/564 [==============================] - 3s 5ms/step - loss: 4.0334\n",
      "Epoch 51/100\n",
      "564/564 [==============================] - 3s 5ms/step - loss: 4.0126\n",
      "Epoch 52/100\n",
      "564/564 [==============================] - 3s 5ms/step - loss: 3.9921\n",
      "Epoch 53/100\n",
      "564/564 [==============================] - 3s 5ms/step - loss: 3.9722\n",
      "Epoch 54/100\n",
      "564/564 [==============================] - 3s 5ms/step - loss: 3.9525\n",
      "Epoch 55/100\n",
      "564/564 [==============================] - 3s 5ms/step - loss: 3.9332\n",
      "Epoch 56/100\n",
      "564/564 [==============================] - 3s 5ms/step - loss: 3.9143\n",
      "Epoch 57/100\n",
      "564/564 [==============================] - 3s 5ms/step - loss: 3.8955\n",
      "Epoch 58/100\n",
      "564/564 [==============================] - 3s 5ms/step - loss: 3.8772\n",
      "Epoch 59/100\n",
      "564/564 [==============================] - 3s 5ms/step - loss: 3.8591\n",
      "Epoch 60/100\n",
      "564/564 [==============================] - 3s 5ms/step - loss: 3.8413\n",
      "Epoch 61/100\n",
      "564/564 [==============================] - 3s 5ms/step - loss: 3.8237\n",
      "Epoch 62/100\n",
      "564/564 [==============================] - 3s 5ms/step - loss: 3.8063\n",
      "Epoch 63/100\n",
      "564/564 [==============================] - 3s 5ms/step - loss: 3.7891\n",
      "Epoch 64/100\n",
      "564/564 [==============================] - 3s 5ms/step - loss: 3.7721\n",
      "Epoch 65/100\n",
      "564/564 [==============================] - 3s 6ms/step - loss: 3.7554\n",
      "Epoch 66/100\n",
      "564/564 [==============================] - 3s 5ms/step - loss: 3.7389\n",
      "Epoch 67/100\n",
      "564/564 [==============================] - 3s 5ms/step - loss: 3.7225\n",
      "Epoch 68/100\n",
      "564/564 [==============================] - 3s 5ms/step - loss: 3.7063\n",
      "Epoch 69/100\n",
      "564/564 [==============================] - 3s 5ms/step - loss: 3.6902\n",
      "Epoch 70/100\n",
      "564/564 [==============================] - 3s 5ms/step - loss: 3.6744\n",
      "Epoch 71/100\n",
      "564/564 [==============================] - 3s 5ms/step - loss: 3.6586\n",
      "Epoch 72/100\n",
      "564/564 [==============================] - 3s 5ms/step - loss: 3.6430\n",
      "Epoch 73/100\n",
      "564/564 [==============================] - 3s 5ms/step - loss: 3.6275\n",
      "Epoch 74/100\n",
      "564/564 [==============================] - 3s 5ms/step - loss: 3.6122\n",
      "Epoch 75/100\n",
      "564/564 [==============================] - 3s 5ms/step - loss: 3.5969\n",
      "Epoch 76/100\n",
      "564/564 [==============================] - 3s 5ms/step - loss: 3.5818\n",
      "Epoch 77/100\n",
      "564/564 [==============================] - 3s 5ms/step - loss: 3.5667\n",
      "Epoch 78/100\n",
      "564/564 [==============================] - 3s 5ms/step - loss: 3.5518\n",
      "Epoch 79/100\n",
      "564/564 [==============================] - 3s 5ms/step - loss: 3.5369\n",
      "Epoch 80/100\n",
      "564/564 [==============================] - 3s 5ms/step - loss: 3.5222\n",
      "Epoch 81/100\n",
      "564/564 [==============================] - 3s 5ms/step - loss: 3.5075\n",
      "Epoch 82/100\n",
      "564/564 [==============================] - 3s 5ms/step - loss: 3.4929\n",
      "Epoch 83/100\n",
      "564/564 [==============================] - 3s 5ms/step - loss: 3.4783\n",
      "Epoch 84/100\n",
      "564/564 [==============================] - 3s 5ms/step - loss: 3.4639\n",
      "Epoch 85/100\n",
      "564/564 [==============================] - 3s 5ms/step - loss: 3.4494\n",
      "Epoch 86/100\n",
      "564/564 [==============================] - 3s 5ms/step - loss: 3.4350\n",
      "Epoch 87/100\n",
      "564/564 [==============================] - 3s 5ms/step - loss: 3.4206\n",
      "Epoch 88/100\n",
      "564/564 [==============================] - 3s 5ms/step - loss: 3.4063\n",
      "Epoch 89/100\n",
      "564/564 [==============================] - 3s 5ms/step - loss: 3.3919\n",
      "Epoch 90/100\n",
      "564/564 [==============================] - 3s 5ms/step - loss: 3.3776\n",
      "Epoch 91/100\n",
      "564/564 [==============================] - 3s 5ms/step - loss: 3.3633\n",
      "Epoch 92/100\n",
      "564/564 [==============================] - 3s 5ms/step - loss: 3.3491\n",
      "Epoch 93/100\n",
      "564/564 [==============================] - 3s 5ms/step - loss: 3.3347\n",
      "Epoch 94/100\n",
      "564/564 [==============================] - 3s 5ms/step - loss: 3.3205\n",
      "Epoch 95/100\n",
      "564/564 [==============================] - 3s 5ms/step - loss: 3.3062\n",
      "Epoch 96/100\n",
      "564/564 [==============================] - 3s 5ms/step - loss: 3.2920\n",
      "Epoch 97/100\n",
      "564/564 [==============================] - 3s 5ms/step - loss: 3.2776\n",
      "Epoch 98/100\n",
      "564/564 [==============================] - 3s 5ms/step - loss: 3.2633\n",
      "Epoch 99/100\n",
      "564/564 [==============================] - 3s 5ms/step - loss: 3.2489\n",
      "Epoch 100/100\n",
      "564/564 [==============================] - 3s 5ms/step - loss: 3.2346\n"
     ]
    }
   ],
   "source": [
    "history=lstm.fit(X_train, y_train, epochs=100, batch_size=8, verbose=1, shuffle=False)"
   ]
  },
  {
   "cell_type": "code",
   "execution_count": 27,
   "id": "41d957b9",
   "metadata": {},
   "outputs": [
    {
     "name": "stdout",
     "output_type": "stream",
     "text": [
      "15/15 [==============================] - 1s 5ms/step\n"
     ]
    }
   ],
   "source": [
    "y_pred = lstm.predict(X_test)"
   ]
  },
  {
   "cell_type": "code",
   "execution_count": 31,
   "id": "b390e7b6",
   "metadata": {},
   "outputs": [
    {
     "data": {
      "image/png": "[encoded data removed]",
      "text/plain": [
       "<Figure size 432x288 with 1 Axes>"
      ]
     },
     "metadata": {
      "needs_background": "light"
     },
     "output_type": "display_data"
    }
   ],
   "source": [
    "plt.plot(y_test, label='True Value')\n",
    "plt.plot(y_pred, label= 'LSTM Value')\n",
    "plt.title('PREDICTION BY LSTM')\n",
    "plt.xlabel(\"Time Scale\")\n",
    "plt.ylabel('INR')\n",
    "plt.legend()\n",
    "plt.show()"
   ]
  },
  {
   "cell_type": "markdown",
   "id": "e198cf00",
   "metadata": {},
   "source": [
    "## Forecast"
   ]
  },
  {
   "cell_type": "code",
   "execution_count": 40,
   "id": "ba3f4454",
   "metadata": {},
   "outputs": [],
   "source": [
    "y =df['Close'].fillna(method='ffill')"
   ]
  },
  {
   "cell_type": "code",
   "execution_count": 41,
   "id": "1161e267",
   "metadata": {},
   "outputs": [
    {
     "data": {
      "text/plain": [
       "Date\n",
       "2002-11-29     14.110000\n",
       "2002-12-02     14.447777\n",
       "2002-12-03     14.444444\n",
       "2002-12-04     14.392222\n",
       "2002-12-05     14.435555\n",
       "                 ...    \n",
       "2022-11-22    340.250000\n",
       "2022-11-23    339.799988\n",
       "2022-11-24    340.750000\n",
       "2022-11-25    340.299988\n",
       "2022-11-28    340.049988\n",
       "Name: Close, Length: 4961, dtype: float64"
      ]
     },
     "execution_count": 41,
     "metadata": {},
     "output_type": "execute_result"
    }
   ],
   "source": [
    "y"
   ]
  },
  {
   "cell_type": "code",
   "execution_count": 42,
   "id": "203a4761",
   "metadata": {},
   "outputs": [],
   "source": [
    "y = y.values.reshape(-1,1)"
   ]
  },
  {
   "cell_type": "code",
   "execution_count": 43,
   "id": "8ddb7a08",
   "metadata": {},
   "outputs": [
    {
     "data": {
      "text/plain": [
       "array([[ 14.11    ],\n",
       "       [ 14.447777],\n",
       "       [ 14.444444],\n",
       "       ...,\n",
       "       [340.75    ],\n",
       "       [340.299988],\n",
       "       [340.049988]])"
      ]
     },
     "execution_count": 43,
     "metadata": {},
     "output_type": "execute_result"
    }
   ],
   "source": [
    "y"
   ]
  },
  {
   "cell_type": "code",
   "execution_count": 46,
   "id": "5722459b",
   "metadata": {},
   "outputs": [],
   "source": [
    "scaler = MinMaxScaler(feature_range=(0,1))\n",
    "scaler=scaler.fit(y)\n",
    "y=scaler.transform(y)"
   ]
  },
  {
   "cell_type": "code",
   "execution_count": 48,
   "id": "b18687b6",
   "metadata": {},
   "outputs": [],
   "source": [
    "n_lookback =60\n",
    "n_forecast =30"
   ]
  },
  {
   "cell_type": "code",
   "execution_count": 49,
   "id": "54f194c9",
   "metadata": {},
   "outputs": [],
   "source": [
    "X =[]\n",
    "Y =[]"
   ]
  },
  {
   "cell_type": "code",
   "execution_count": 50,
   "id": "42ab7f19",
   "metadata": {},
   "outputs": [],
   "source": [
    "for i in range(n_lookback, len(y) - n_forecast + 1):\n",
    "    X.append(y[i - n_lookback: i])\n",
    "    Y.append(y[i: i + n_forecast])\n",
    "\n",
    "X = np.array(X)\n",
    "Y = np.array(Y)"
   ]
  },
  {
   "cell_type": "code",
   "execution_count": 51,
   "id": "5c9e92ae",
   "metadata": {},
   "outputs": [],
   "source": [
    "model = Sequential()\n",
    "model.add(LSTM(units=50, return_sequences=True, input_shape=(n_lookback, 1)))\n",
    "model.add(LSTM(units=50))\n",
    "model.add(Dense(n_forecast))"
   ]
  },
  {
   "cell_type": "code",
   "execution_count": 54,
   "id": "190dc6e4",
   "metadata": {},
   "outputs": [],
   "source": [
    "model.compile(loss='mean_squared_error', optimizer='adam')"
   ]
  },
  {
   "cell_type": "code",
   "execution_count": 56,
   "id": "d34c601b",
   "metadata": {},
   "outputs": [
    {
     "data": {
      "text/plain": [
       "<keras.callbacks.History at 0x2a6d5b38f10>"
      ]
     },
     "execution_count": 56,
     "metadata": {},
     "output_type": "execute_result"
    }
   ],
   "source": [
    "model.fit(X, Y, epochs=10, batch_size=32, verbose=0)"
   ]
  },
  {
   "cell_type": "code",
   "execution_count": 57,
   "id": "d74062d4",
   "metadata": {},
   "outputs": [],
   "source": [
    "X_ = y[- n_lookback:]  \n",
    "X_ = X_.reshape(1, n_lookback, 1)"
   ]
  },
  {
   "cell_type": "code",
   "execution_count": 58,
   "id": "3c9b06d3",
   "metadata": {},
   "outputs": [
    {
     "name": "stdout",
     "output_type": "stream",
     "text": [
      "1/1 [==============================] - 2s 2s/step\n"
     ]
    }
   ],
   "source": [
    "Y_ = model.predict(X_).reshape(-1, 1)\n",
    "Y_ = scaler.inverse_transform(Y_)"
   ]
  },
  {
   "cell_type": "code",
   "execution_count": 59,
   "id": "5e6e6e0e",
   "metadata": {},
   "outputs": [
    {
     "name": "stderr",
     "output_type": "stream",
     "text": [
      "D:\\anac\\lib\\site-packages\\pandas\\core\\indexing.py:1732: SettingWithCopyWarning: \n",
      "A value is trying to be set on a copy of a slice from a DataFrame\n",
      "\n",
      "See the caveats in the documentation: https://pandas.pydata.org/pandas-docs/stable/user_guide/indexing.html#returning-a-view-versus-a-copy\n",
      "  self._setitem_single_block(indexer, value, name)\n"
     ]
    }
   ],
   "source": [
    "df_past = df[['Close']].reset_index()\n",
    "df_past.rename(columns={'index': 'Date', 'Close': 'Actual'}, inplace=True)\n",
    "df_past['Date'] = pd.to_datetime(df_past['Date'])\n",
    "df_past['Forecast'] = np.nan\n",
    "df_past['Forecast'].iloc[-1] = df_past['Actual'].iloc[-1]"
   ]
  },
  {
   "cell_type": "code",
   "execution_count": 69,
   "id": "6ae742df",
   "metadata": {},
   "outputs": [],
   "source": [
    "df_future = pd.DataFrame(columns=['Date', 'Actual', 'Forecast'])\n",
    "df_future['Date'] = pd.date_range(start=df_past['Date'].iloc[-1] + pd.Timedelta(days=1), periods=n_forecast)\n",
    "df_future['Forecast'] = Y_.flatten()\n",
    "df_future['Actual'] = np.nan"
   ]
  },
  {
   "cell_type": "code",
   "execution_count": 70,
   "id": "cc616a9a",
   "metadata": {},
   "outputs": [],
   "source": [
    "results = df_past.append(df_future).set_index('Date')"
   ]
  },
  {
   "cell_type": "code",
   "execution_count": 71,
   "id": "2b6f7100",
   "metadata": {},
   "outputs": [
    {
     "data": {
      "text/plain": [
       "<AxesSubplot:title={'center':'ITC'}, xlabel='Date'>"
      ]
     },
     "execution_count": 71,
     "metadata": {},
     "output_type": "execute_result"
    },
    {
     "data": {
      "image/png": "[encoded data removed]",
      "text/plain": [
       "<Figure size 432x288 with 1 Axes>"
      ]
     },
     "metadata": {
      "needs_background": "light"
     },
     "output_type": "display_data"
    }
   ],
   "source": [
    "results.plot(title='ITC')"
   ]
  }
 ],
 "metadata": {
  "kernelspec": {
   "display_name": "Python 3 (ipykernel)",
   "language": "python",
   "name": "python3"
  },
  "language_info": {
   "codemirror_mode": {
    "name": "ipython",
    "version": 3
   },
   "file_extension": ".py",
   "mimetype": "text/x-python",
   "name": "python",
   "nbconvert_exporter": "python",
   "pygments_lexer": "ipython3",
   "version": "3.9.7"
  }
 },
 "nbformat": 4,
 "nbformat_minor": 5
}
